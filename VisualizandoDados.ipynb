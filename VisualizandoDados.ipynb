{
  "nbformat": 4,
  "nbformat_minor": 0,
  "metadata": {
    "colab": {
      "name": "VisualizandoDados.ipynb",
      "provenance": [],
      "authorship_tag": "ABX9TyNvfrwMfErnAvbaP8u0ZVs5",
      "include_colab_link": true
    },
    "kernelspec": {
      "name": "python3",
      "display_name": "Python 3"
    }
  },
  "cells": [
    {
      "cell_type": "markdown",
      "metadata": {
        "id": "view-in-github",
        "colab_type": "text"
      },
      "source": [
        "<a href=\"https://colab.research.google.com/github/JamesCarterBR/Visualizando-Dados-em-Python/blob/master/VisualizandoDados.ipynb\" target=\"_parent\"><img src=\"https://colab.research.google.com/assets/colab-badge.svg\" alt=\"Open In Colab\"/></a>"
      ]
    },
    {
      "cell_type": "markdown",
      "metadata": {
        "id": "dTbo5mdJjUT6",
        "colab_type": "text"
      },
      "source": [
        "## **Visualizaçãode dados em Python**  "
      ]
    },
    {
      "cell_type": "code",
      "metadata": {
        "id": "wNssTfnLgl95",
        "colab_type": "code",
        "colab": {}
      },
      "source": [
        "#Documentação Oficial do Matplotlib: https://matplotlib.org/api/_as_gen/matplotlib.pyplot.plot.html\n",
        "#Importando a biblioteca de plotagem \n",
        "import matplotlib.pyplot as plt"
      ],
      "execution_count": 0,
      "outputs": []
    },
    {
      "cell_type": "markdown",
      "metadata": {
        "id": "H1fIgnbpCoGC",
        "colab_type": "text"
      },
      "source": [
        "## **Gráfico de Linha**"
      ]
    },
    {
      "cell_type": "code",
      "metadata": {
        "id": "tS1FIowFhrBb",
        "colab_type": "code",
        "outputId": "0ffc765d-740d-4088-8252-d42cd7177817",
        "colab": {
          "base_uri": "https://localhost:8080/",
          "height": 295
        }
      },
      "source": [
        "#Variáveis\n",
        "titulo = \"Grafico de Barras\"\n",
        "x = [1, 2, 5]\n",
        "y = [2,3, 7]\n",
        "\n",
        "#Legendas do Gráfico\n",
        "plt.title(\"titulo\")\n",
        "plt.xlabel(\"Eixo X\")\n",
        "plt.ylabel(\"Eixo Y\")\n",
        "\n",
        "#Plotando o gráfico\n",
        "plt.plot(x, y)\n",
        "plt.show()\n"
      ],
      "execution_count": 0,
      "outputs": [
        {
          "output_type": "display_data",
          "data": {
            "image/png": "[encoded data removed]",
            "text/plain": [
              "<Figure size 432x288 with 1 Axes>"
            ]
          },
          "metadata": {
            "tags": []
          }
        }
      ]
    },
    {
      "cell_type": "markdown",
      "metadata": {
        "id": "aFazdyxBxVzK",
        "colab_type": "text"
      },
      "source": [
        "## **Gráfico de Barras Simples**\n",
        "\n",
        "\n",
        "\n"
      ]
    },
    {
      "cell_type": "code",
      "metadata": {
        "id": "D0iI-CNAxgu0",
        "colab_type": "code",
        "outputId": "dc3342c2-1e77-44c8-a268-9c83a02af34d",
        "colab": {
          "base_uri": "https://localhost:8080/",
          "height": 295
        }
      },
      "source": [
        "#Variáveis\n",
        "titulo = \"Grafico de Barras\"\n",
        "z = [1, 2, 3, 4]\n",
        "w = [3,10, 2, 8]\n",
        "\n",
        "eixoZ = \"Eixo X\"\n",
        "eixoW = \"Eixo Y\"\n",
        "\n",
        "#Legendas do Gráfico\n",
        "\n",
        "plt.title(titulo)\n",
        "plt.xlabel(eixoZ)\n",
        "plt.ylabel(eixoW)\n",
        "\n",
        "#Plotando o gráfico em barras\n",
        "plt.bar(z, w)\n",
        "plt.show()"
      ],
      "execution_count": 0,
      "outputs": [
        {
          "output_type": "display_data",
          "data": {
            "image/png": "[encoded data removed]",
            "text/plain": [
              "<Figure size 432x288 with 1 Axes>"
            ]
          },
          "metadata": {
            "tags": []
          }
        }
      ]
    },
    {
      "cell_type": "markdown",
      "metadata": {
        "id": "rFAWMIrl0hvV",
        "colab_type": "text"
      },
      "source": [
        "## **Gráfico de Barras de Comparação**"
      ]
    },
    {
      "cell_type": "code",
      "metadata": {
        "id": "nuPfkeHR0n2v",
        "colab_type": "code",
        "outputId": "345d5449-d23a-4d91-cb90-5d6dc1e99006",
        "colab": {
          "base_uri": "https://localhost:8080/",
          "height": 295
        }
      },
      "source": [
        "#Variáveis\n",
        "titulo = \"Grafico de Barras\"\n",
        "x1 = [1, 3, 5, 7, 9]\n",
        "y1 = [3, 10, 2, 8, 10]\n",
        "\n",
        "x2 = [2, 4, 6, 8, 10]\n",
        "y2 = [4, 13, 5, 3, 2]\n",
        "\n",
        "eixoX = \"Eixo X\"\n",
        "eixoY = \"Eixo Y\"\n",
        "\n",
        "#Legendas do Gráfico\n",
        "\n",
        "plt.title(titulo)\n",
        "plt.xlabel(eixoX)\n",
        "plt.ylabel(eixoY)\n",
        "\n",
        "#Plotando o gráfico em barras\n",
        "plt.bar(x1, y1, \n",
        "        #Criando um rótulo para o Grupo 1\n",
        "        label =\"Grupo 1\")\n",
        "\n",
        "plt.bar(x2, y2, \n",
        "        #Criando um rótulo para o Grupo 2\n",
        "        label =\"Grupo 2\")\n",
        "\n",
        "#plotando as labels\n",
        "plt.legend() \n",
        "\n",
        "#Imprimindo\n",
        "plt.show()"
      ],
      "execution_count": 0,
      "outputs": [
        {
          "output_type": "display_data",
          "data": {
            "image/png": "[encoded data removed]",
            "text/plain": [
              "<Figure size 432x288 with 1 Axes>"
            ]
          },
          "metadata": {
            "tags": []
          }
        }
      ]
    },
    {
      "cell_type": "markdown",
      "metadata": {
        "id": "ouXEpRh97Z8T",
        "colab_type": "text"
      },
      "source": [
        "## **Gráfico de Dispersão**"
      ]
    },
    {
      "cell_type": "code",
      "metadata": {
        "id": "d_zYq0wz7gNP",
        "colab_type": "code",
        "outputId": "4be358bd-db38-4a1d-9a6d-03a3afb566f7",
        "colab": {
          "base_uri": "https://localhost:8080/",
          "height": 312
        }
      },
      "source": [
        "#Variáveis\n",
        "titulo = \"Scatterplot: Grafico de Dispersão\"\n",
        "x = [1, 2, 3, 4]\n",
        "y = [3,10, 2, 8]\n",
        "\n",
        "eixoX = \"Eixo X\"\n",
        "eixoY = \"Eixo Y\"\n",
        "\n",
        "#Legendas do Gráfico\n",
        "\n",
        "plt.title(titulo)\n",
        "plt.xlabel(eixoX)\n",
        "plt.ylabel(eixoY)\n",
        "\n",
        "#Plotando de Grafico Dispersão\n",
        "plt.scatter(x, y, \n",
        "            #Criando um rótulo para os pontos\n",
        "            label=\"Dispersão\", \n",
        "            #mudando a cor do ponto no gráfico \n",
        "            color= \"k\")\n",
        "\n",
        "#plotando as labels\n",
        "plt.legend() \n",
        "\n",
        "#Plotando um gráfico em linhas, isso ligará os pontos\n",
        "plt.plot(x, y, \n",
        "         #Mudando o tipo de linha \n",
        "         linestyle=\"--\", \n",
        "         #Mudando a cor da linha\n",
        "         color=\"k\")\n",
        "\n",
        "#Imprimindo\n",
        "plt.show()\n",
        "\n",
        "#Salvando a figura\n",
        "#plt.savefig(\"Figura.pdf\")"
      ],
      "execution_count": 23,
      "outputs": [
        {
          "output_type": "display_data",
          "data": {
            "image/png": "[encoded data removed]",
            "text/plain": [
              "<Figure size 432x288 with 1 Axes>"
            ]
          },
          "metadata": {
            "tags": []
          }
        },
        {
          "output_type": "display_data",
          "data": {
            "text/plain": [
              "<Figure size 432x288 with 0 Axes>"
            ]
          },
          "metadata": {
            "tags": []
          }
        }
      ]
    },
    {
      "cell_type": "markdown",
      "metadata": {
        "id": "TxUV4MRpJg1r",
        "colab_type": "text"
      },
      "source": [
        ""
      ]
    }
  ]
}